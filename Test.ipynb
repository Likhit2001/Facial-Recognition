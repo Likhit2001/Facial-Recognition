{
 "cells": [
  {
   "cell_type": "code",
   "execution_count": 1,
   "id": "055e06c3-c80c-425e-b4dd-eb218c1f8c79",
   "metadata": {},
   "outputs": [],
   "source": [
    "import cv2 \n",
    "import time\n",
    "import csv\n",
    "import time\n",
    "from datetime import datetime\n",
    "import os\n",
    "from PIL import Image\n",
    "import cv2\n",
    "import numpy as np\n",
    "\n",
    "video=cv2.VideoCapture(0)\n",
    "\n",
    "\n",
    "facedetect = cv2.CascadeClassifier(\"haarcascade_frontalface_default.xml\")\n",
    "\n",
    "recognizer = cv2.face.LBPHFaceRecognizer_create()\n",
    "recognizer.read(\"Model.yml\")\n",
    "\n",
    "\n",
    "\n",
    "\n",
    "name_list = [\"\",\"Likhit\",\"Dhoni\"]"
   ]
  },
  {
   "cell_type": "code",
   "execution_count": 2,
   "id": "eeac16c8-4f21-4811-8143-95388487269a",
   "metadata": {},
   "outputs": [],
   "source": [
    "path='datasets'"
   ]
  },
  {
   "cell_type": "code",
   "execution_count": null,
   "id": "a011a6d3-9a61-4224-8b20-0be5f27d76a1",
   "metadata": {},
   "outputs": [],
   "source": []
  },
  {
   "cell_type": "code",
   "execution_count": 3,
   "id": "13f205bf-ff8e-40aa-b94b-611eaa2faacf",
   "metadata": {},
   "outputs": [],
   "source": [
    "while True:\n",
    "    ref, frame = video.read()\n",
    "    gray=cv2.cvtColor(frame, cv2.COLOR_BGR2GRAY)\n",
    "    face_set = facedetect.detectMultiScale(gray, 1.3 ,5 )\n",
    "    \n",
    "    for (x,y,w,h) in face_set:\n",
    "        serial, conf = recognizer.predict(gray[y:y+h, x:x+w])\n",
    "        \n",
    "        \n",
    "        if conf >= 20 :\n",
    "            cv2.putText(frame , str(name_list[serial]) , (x,y-15) , cv2.FONT_HERSHEY_COMPLEX , 1 , (255,255,255) ,3 )\n",
    "          \n",
    "        else:\n",
    "            cv2.putText(frame , \"UnKnown\", (x,y-15) , cv2.FONT_HERSHEY_COMPLEX , 1 , (255,255,255) ,3 )\n",
    "\n",
    "        ts=time.time()\n",
    "        \n",
    "        date = datetime.fromtimestamp(ts).strftime(\"%d-%m-%Y\")\n",
    "        timestamp = datetime.fromtimestamp(ts).strftime(\"%H:%M:%S\")\n",
    "        exist = os.path.isfile(\"Attendance/Attendance_\" + date + '.csv')\n",
    "        \n",
    "        if serial :  \n",
    "            attendance=[str(name_list[serial]) , str(timestamp)]\n",
    "        else:\n",
    "            attendance=[\"Unknown\" , str(timestamp)]\n",
    "\n",
    "        \n",
    "        l=cv2.waitKey(1)\n",
    "        if l==ord('o'):\n",
    "            \n",
    "            if exist :\n",
    "                with open(\"Attendance/Attendance_\" + date + '.csv' , \"+a\" ) as csvfile:\n",
    "                    writer = csv.writer(csvfile)\n",
    "                    writer.writerow(attendance)\n",
    "                csvfile.close()\n",
    "            else:\n",
    "                os.makedirs(os.path.dirname(\"Attendance/Attendance_\"), exist_ok=True)\n",
    "                with open(\"Attendance/Attendance_\" + date + '.csv' , \"+a\" ) as csvfile:\n",
    "                    writer = csv.writer(csvfile)\n",
    "                    writer.writerow(Col_names)\n",
    "                    writer.writerow(attendance)\n",
    "                csvfile.close()\n",
    "\n",
    "\n",
    "\n",
    "\n",
    "        \n",
    "        cv2.rectangle(frame,(x,y) , (x+w , y+h) , (50, 50 ,255) , 2)\n",
    "        \n",
    "    cv2.imshow('frame',frame)\n",
    "    k=cv2.waitKey(1)\n",
    "    if k==ord('q'):\n",
    "        break\n",
    "        \n",
    "video.release()\n",
    "cv2.destroyAllWindows()"
   ]
  },
  {
   "cell_type": "code",
   "execution_count": null,
   "id": "edd4d96e-4b7f-4dc8-a4a9-2cf16d26e52b",
   "metadata": {},
   "outputs": [],
   "source": []
  }
 ],
 "metadata": {
  "kernelspec": {
   "display_name": "Python 3 (ipykernel)",
   "language": "python",
   "name": "python3"
  },
  "language_info": {
   "codemirror_mode": {
    "name": "ipython",
    "version": 3
   },
   "file_extension": ".py",
   "mimetype": "text/x-python",
   "name": "python",
   "nbconvert_exporter": "python",
   "pygments_lexer": "ipython3",
   "version": "3.11.4"
  }
 },
 "nbformat": 4,
 "nbformat_minor": 5
}
