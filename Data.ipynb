{
 "cells": [
  {
   "cell_type": "code",
   "execution_count": 1,
   "id": "9772d467-5746-4349-b104-f1c54afff2cb",
   "metadata": {},
   "outputs": [
    {
     "name": "stdin",
     "output_type": "stream",
     "text": [
      "Enter Your ID:  1\n"
     ]
    }
   ],
   "source": [
    "import cv2 \n",
    "\n",
    "video=cv2.VideoCapture(0)\n",
    "\n",
    "facedetect = cv2.CascadeClassifier(\"haarcascade_frontalface_default.xml\")\n",
    "\n",
    "id = input(\"Enter Your ID: \")\n",
    "\n",
    "count=0"
   ]
  },
  {
   "cell_type": "code",
   "execution_count": 2,
   "id": "66536580-4f55-43ae-993a-f12696e2ee31",
   "metadata": {},
   "outputs": [
    {
     "name": "stdout",
     "output_type": "stream",
     "text": [
      "Dataset Collection Done..................\n"
     ]
    }
   ],
   "source": [
    "while True:\n",
    "    ret,frame=video.read()\n",
    "    gray=cv2.cvtColor(frame, cv2.COLOR_BGR2GRAY)\n",
    "    faces = facedetect.detectMultiScale(gray, 1.3, 5)\n",
    "    for (x,y,w,h) in faces:\n",
    "        count=count+1\n",
    "        cv2.imwrite('datasets/User.'+str(id)+\".\"+str(count)+\".jpg\", gray[y:y+h, x:x+w])\n",
    "        cv2.rectangle(frame, (x,y), (x+w, y+h), (50,50,255), 1)\n",
    "\n",
    "    cv2.imshow(\"Frame\",frame)\n",
    "\n",
    "    k=cv2.waitKey(1)\n",
    "\n",
    "    if count>1000:\n",
    "        break\n",
    "\n",
    "video.release()\n",
    "cv2.destroyAllWindows()\n",
    "print(\"Dataset Collection Done..................\")"
   ]
  },
  {
   "cell_type": "code",
   "execution_count": null,
   "id": "33c2a20c-f138-41f3-9e98-9a631d99423b",
   "metadata": {},
   "outputs": [],
   "source": []
  },
  {
   "cell_type": "code",
   "execution_count": null,
   "id": "dc1b56d9-08d8-41d8-a8a3-37dc80ae082c",
   "metadata": {},
   "outputs": [],
   "source": []
  }
 ],
 "metadata": {
  "kernelspec": {
   "display_name": "Python 3 (ipykernel)",
   "language": "python",
   "name": "python3"
  },
  "language_info": {
   "codemirror_mode": {
    "name": "ipython",
    "version": 3
   },
   "file_extension": ".py",
   "mimetype": "text/x-python",
   "name": "python",
   "nbconvert_exporter": "python",
   "pygments_lexer": "ipython3",
   "version": "3.11.4"
  }
 },
 "nbformat": 4,
 "nbformat_minor": 5
}
