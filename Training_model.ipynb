{
 "cells": [
  {
   "cell_type": "code",
   "execution_count": 1,
   "id": "a520326d-5eb5-4084-a20b-751330f7061e",
   "metadata": {},
   "outputs": [],
   "source": [
    "import cv2\n",
    "import numpy as np\n",
    "from PIL import Image\n",
    "import os\n",
    "\n",
    "from sklearn.neighbors import KNeighborsClassifier\n",
    "from sklearn import *\n",
    "\n",
    "# recognizer = cv2.face.LBPHFaceRecognizer_create()\n",
    "\n",
    "path=\"datasets\""
   ]
  },
  {
   "cell_type": "code",
   "execution_count": 2,
   "id": "15f26ebc-0d5c-44a1-b9b5-4ca7f52ba771",
   "metadata": {},
   "outputs": [
    {
     "name": "stdout",
     "output_type": "stream",
     "text": [
      "Requirement already satisfied: opencv-contrib-python in /Users/likhit/venv-metal/lib/python3.11/site-packages (4.8.1.78)\n",
      "Requirement already satisfied: numpy>=1.21.2 in /Users/likhit/venv-metal/lib/python3.11/site-packages (from opencv-contrib-python) (1.23.5)\n",
      "Note: you may need to restart the kernel to use updated packages.\n"
     ]
    }
   ],
   "source": [
    "pip install opencv-contrib-python"
   ]
  },
  {
   "cell_type": "code",
   "execution_count": 3,
   "id": "06c18a3d-55ef-468b-8b67-9cda9a460ed0",
   "metadata": {},
   "outputs": [],
   "source": [
    "def getImageID(path):\n",
    "    imagePath = [os.path.join(path, f) for f in os.listdir(path)]\n",
    "    faces=[]\n",
    "    ids=[]\n",
    "    for imagePaths in imagePath:\n",
    "        faceImage = Image.open(imagePaths).convert('L')\n",
    "        faceNP = np.array(faceImage)\n",
    "        Id= (os.path.split(imagePaths)[-1].split(\".\")[1])\n",
    "        Id=int(Id)\n",
    "        faces.append(faceNP)\n",
    "        ids.append(Id)\n",
    "        cv2.imshow(\"Training\",faceNP)\n",
    "        cv2.waitKey(1)\n",
    "    return ids, faces"
   ]
  },
  {
   "cell_type": "code",
   "execution_count": 4,
   "id": "dd0942bd-2cf1-4b5a-88d2-45b62069248d",
   "metadata": {},
   "outputs": [
    {
     "name": "stdout",
     "output_type": "stream",
     "text": [
      "Training Completed\n"
     ]
    }
   ],
   "source": [
    "IDs, facedata = getImageID(path)\n",
    "knn=KNeighborsClassifier(n_neighbors=5)\n",
    "knn.fit(facedata,np.array(IDs))\n",
    "\n",
    "\n",
    "# recognizer.train(facedata, np.array(IDs))\n",
    "# recognizer.write(\"Model.yml\")\n",
    "cv2.destroyAllWindows()\n",
    "print(\"Training Completed\")"
   ]
  },
  {
   "cell_type": "code",
   "execution_count": null,
   "id": "34140b9b-211d-406d-b278-6fb19624f0c5",
   "metadata": {},
   "outputs": [],
   "source": []
  }
 ],
 "metadata": {
  "kernelspec": {
   "display_name": "Python 3 (ipykernel)",
   "language": "python",
   "name": "python3"
  },
  "language_info": {
   "codemirror_mode": {
    "name": "ipython",
    "version": 3
   },
   "file_extension": ".py",
   "mimetype": "text/x-python",
   "name": "python",
   "nbconvert_exporter": "python",
   "pygments_lexer": "ipython3",
   "version": "3.11.4"
  }
 },
 "nbformat": 4,
 "nbformat_minor": 5
}
